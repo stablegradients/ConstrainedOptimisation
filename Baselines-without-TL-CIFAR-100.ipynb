{
 "cells": [
  {
   "cell_type": "code",
   "execution_count": 1,
   "id": "8c630211",
   "metadata": {},
   "outputs": [
    {
     "name": "stdout",
     "output_type": "stream",
     "text": [
      "Tue Nov 30 15:59:17 2021       \r\n",
      "+-----------------------------------------------------------------------------+\r\n",
      "| NVIDIA-SMI 495.29.05    Driver Version: 495.29.05    CUDA Version: 11.5     |\r\n",
      "|-------------------------------+----------------------+----------------------+\r\n",
      "| GPU  Name        Persistence-M| Bus-Id        Disp.A | Volatile Uncorr. ECC |\r\n",
      "| Fan  Temp  Perf  Pwr:Usage/Cap|         Memory-Usage | GPU-Util  Compute M. |\r\n",
      "|                               |                      |               MIG M. |\r\n",
      "|===============================+======================+======================|\r\n",
      "|   0  NVIDIA GeForce ...  On   | 00000000:01:00.0 Off |                  N/A |\r\n",
      "| 30%   36C    P8    23W / 350W |     23MiB / 24267MiB |      0%      Default |\r\n",
      "|                               |                      |                  N/A |\r\n",
      "+-------------------------------+----------------------+----------------------+\r\n",
      "|   1  NVIDIA RTX A5000    On   | 00000000:21:00.0 Off |                  Off |\r\n",
      "| 56%   82C    P2   222W / 230W |   9977MiB / 24256MiB |     72%      Default |\r\n",
      "|                               |                      |                  N/A |\r\n",
      "+-------------------------------+----------------------+----------------------+\r\n",
      "|   2  NVIDIA RTX A5000    On   | 00000000:4B:00.0 Off |                  Off |\r\n",
      "| 49%   75C    P2   222W / 230W |   2609MiB / 24256MiB |     80%      Default |\r\n",
      "|                               |                      |                  N/A |\r\n",
      "+-------------------------------+----------------------+----------------------+\r\n",
      "|   3  NVIDIA RTX A5000    On   | 00000000:4C:00.0 Off |                  Off |\r\n",
      "| 30%   36C    P8    11W / 230W |   4495MiB / 24256MiB |      0%      Default |\r\n",
      "|                               |                      |                  N/A |\r\n",
      "+-------------------------------+----------------------+----------------------+\r\n",
      "                                                                               \r\n",
      "+-----------------------------------------------------------------------------+\r\n",
      "| Processes:                                                                  |\r\n",
      "|  GPU   GI   CI        PID   Type   Process name                  GPU Memory |\r\n",
      "|        ID   ID                                                   Usage      |\r\n",
      "|=============================================================================|\r\n",
      "|    0   N/A  N/A      2742      G   /usr/lib/xorg/Xorg                  9MiB |\r\n",
      "|    0   N/A  N/A      2847      G   /usr/bin/gnome-shell               12MiB |\r\n",
      "|    1   N/A  N/A      2742      G   /usr/lib/xorg/Xorg                  4MiB |\r\n",
      "|    1   N/A  N/A     37995      C   ...d_optimisation/bin/python     2007MiB |\r\n",
      "|    1   N/A  N/A     48530      C   python3                          4487MiB |\r\n",
      "|    1   N/A  N/A    120575      C   ...d_optimisation/bin/python     3475MiB |\r\n",
      "|    2   N/A  N/A      2742      G   /usr/lib/xorg/Xorg                  4MiB |\r\n",
      "|    2   N/A  N/A     33415      C   ...d_optimisation/bin/python     2601MiB |\r\n",
      "|    3   N/A  N/A      2742      G   /usr/lib/xorg/Xorg                  4MiB |\r\n",
      "|    3   N/A  N/A     46664      C   python3                          4487MiB |\r\n",
      "+-----------------------------------------------------------------------------+\r\n"
     ]
    }
   ],
   "source": [
    "!nvidia-smi"
   ]
  },
  {
   "cell_type": "code",
   "execution_count": 2,
   "id": "d58d0251",
   "metadata": {},
   "outputs": [],
   "source": [
    "import torch\n",
    "import torchvision\n",
    "import torchvision.transforms as transforms"
   ]
  },
  {
   "cell_type": "code",
   "execution_count": 3,
   "id": "2733b45f",
   "metadata": {},
   "outputs": [
    {
     "name": "stdout",
     "output_type": "stream",
     "text": [
      "Files already downloaded and verified\n",
      "Files already downloaded and verified\n"
     ]
    }
   ],
   "source": [
    "transform = transforms.Compose(\n",
    "    [transforms.ToTensor(),\n",
    "     transforms.Normalize((0.5, 0.5, 0.5), (0.5, 0.5, 0.5))])\n",
    "\n",
    "batch_size = 32\n",
    "\n",
    "trainset = torchvision.datasets.CIFAR100(root='./data', train=True,\n",
    "                                        download=True, transform=transform)\n",
    "\n",
    "trainloader = torch.utils.data.DataLoader(trainset, batch_size=batch_size,\n",
    "                                          shuffle=True, num_workers=8)\n",
    "\n",
    "testset = torchvision.datasets.CIFAR100(root='./data', train=False,\n",
    "                                       download=True, transform=transform)\n",
    "testloader = torch.utils.data.DataLoader(testset, batch_size=batch_size,\n",
    "                                         shuffle=False, num_workers=8)\n",
    "\n",
    "classes = ('plane', 'car', 'bird', 'cat',\n",
    "           'deer', 'dog', 'frog', 'horse', 'ship', 'truck')"
   ]
  },
  {
   "cell_type": "markdown",
   "id": "15c4acbb",
   "metadata": {},
   "source": [
    "Here we shall plot the number of samples in each class.\\\n",
    "In CIFAR100 dataset the samples are balanced at 500 samples per class.\\\n",
    "We will also define a function long tail that shall convert the\\\n",
    "balanced dataset into an unbalanced one given a dataset imbalance factor lamda."
   ]
  },
  {
   "cell_type": "code",
   "execution_count": 4,
   "id": "0241e342",
   "metadata": {},
   "outputs": [],
   "source": [
    "import matplotlib.pyplot as plt\n",
    "import numpy as np\n",
    "\n",
    "def show_data_distribution(dataset, keyname=\"no name\", classes=classes):\n",
    "    dataset_elems = len(classes)*[0]\n",
    "    for image, label in dataset:\n",
    "        dataset_elems[label]+=1\n",
    "    plt.bar(list(classes), dataset_elems)\n",
    "    plt.title(keyname)\n",
    "    plt.show()"
   ]
  },
  {
   "cell_type": "code",
   "execution_count": 5,
   "id": "4b730f9e",
   "metadata": {},
   "outputs": [
    {
     "data": {
      "image/png": "[encoded data removed]",
      "text/plain": [
       "<Figure size 432x288 with 1 Axes>"
      ]
     },
     "metadata": {
      "needs_background": "light"
     },
     "output_type": "display_data"
    }
   ],
   "source": [
    "import random\n",
    "def long_tail(dataset, classes=10, lamda=1):\n",
    "    class_indices = list(range(classes))\n",
    "    random.shuffle(class_indices)\n",
    "    class_probs = [lamda ** x for x in class_indices]\n",
    "    select_list = []\n",
    "    for i, (img, label) in enumerate(dataset):\n",
    "        if np.random.binomial(1, class_probs[label]):\n",
    "            select_list.append(i)\n",
    "    dataset.data=dataset.data[np.array(select_list)]\n",
    "    dataset.targets=list(dataset.targets[x] for x in select_list)\n",
    "    return dataset\n",
    "\n",
    "imabalanced_trainset = long_tail(trainset, classes=len(trainset.classes), lamda = 0.97)\n",
    "show_data_distribution(imabalanced_trainset, keyname=\"train dataset\", classes=imabalanced_trainset.classes)"
   ]
  },
  {
   "cell_type": "markdown",
   "id": "1948df76",
   "metadata": {},
   "source": [
    "In the training loop, we will be providing the optimizer, model,\\\n",
    "dataloader and the criterion i.e the loss function. We shall\\\n",
    "calculate a running loss that averages over the entire epoch and logs the same"
   ]
  },
  {
   "cell_type": "code",
   "execution_count": 6,
   "id": "23218288",
   "metadata": {},
   "outputs": [],
   "source": [
    "def train(trainloader, optimizer, net, criterion, epoch):\n",
    "    running_loss = 0.0\n",
    "    net.train()\n",
    "    for i, data in enumerate(trainloader, 0):\n",
    "        # get the inputs; data is a list of [inputs, labels]\n",
    "        inputs, labels = data\n",
    "\n",
    "        if torch.cuda.is_available():\n",
    "            inputs, labels = inputs.cuda(), labels.cuda()\n",
    "        else:\n",
    "            pass\n",
    "\n",
    "        # zero the parameter gradients\n",
    "        optimizer.zero_grad()\n",
    "\n",
    "        # forward + backward + optimize\n",
    "        outputs = net(inputs)\n",
    "        loss = criterion(outputs, labels)\n",
    "        loss.backward()\n",
    "        optimizer.step()\n",
    "\n",
    "        # print statistics\n",
    "        running_loss = (running_loss*i + loss.item())/(i + 1)\n",
    "        \n",
    "    print(\"Finished Training Epoch :\", epoch, \" With the running loss : \", running_loss)\n",
    "    return net"
   ]
  },
  {
   "cell_type": "code",
   "execution_count": 7,
   "id": "a7063a01",
   "metadata": {},
   "outputs": [],
   "source": [
    "def test(testloader, net):\n",
    "    net.eval()\n",
    "    output_logs = []\n",
    "    label_logs = []\n",
    "    for i, data in enumerate(trainloader, 0):\n",
    "        # get the inputs; data is a list of [inputs, labels]\n",
    "        inputs, labels = data\n",
    "\n",
    "        if torch.cuda.is_available():\n",
    "            inputs = inputs.cuda()\n",
    "        else:\n",
    "            pass\n",
    "        \n",
    "        labels = labels.numpy()\n",
    "        outputs = torch.argmax(net(inputs), dim=1).cpu().detach().numpy()\n",
    "        output_logs.append(outputs)\n",
    "        label_logs.append(labels)\n",
    "    print(\"Finished testing\")\n",
    "    return (np.concatenate(output_logs, axis=0), np.concatenate(label_logs, axis=0))"
   ]
  },
  {
   "cell_type": "markdown",
   "id": "b5066220",
   "metadata": {},
   "source": [
    "In the following function we shall feed all the outputs and the labels\\\n",
    "and the get metrics function shall return the following metrics of performance\\\n",
    "1. precision score class wise\n",
    "2. max precision accross all class epochwise\n",
    "3. min precision accross all class epochwise\n",
    "4. mean precision *unweighted\n",
    "5. recall score class wise\n",
    "6. max recall accross all class epochwise\n",
    "7. min recall accross all class epochwise\n",
    "8. mean recall *unweighted\n",
    "8. accuracy accross all class epochwise"
   ]
  },
  {
   "cell_type": "code",
   "execution_count": 8,
   "id": "fa008a58",
   "metadata": {},
   "outputs": [],
   "source": [
    "from sklearn.metrics import precision_score, recall_score, accuracy_score\n",
    "\n",
    "def get_metrics(outputs, labels):\n",
    "    precision = precision_score(labels, outputs, average=None)\n",
    "    max_precision = np.max(precision)\n",
    "    min_precision = np.min(precision)\n",
    "    mean_precision = np.mean(precision)\n",
    "    \n",
    "    recall = recall_score(labels, outputs, average=None)\n",
    "    max_recall = np.max(recall)\n",
    "    min_recall = np.min(recall)\n",
    "    mean_recall = np.mean(recall)\n",
    "    \n",
    "    accuracy = accuracy_score(labels, outputs)\n",
    "    return {\n",
    "            \"precision\": precision,\n",
    "            \"recall\": recall,\n",
    "            \"accuracy\": accuracy,\n",
    "            \"max_precision\": max_precision,\n",
    "            \"mean_precision\": mean_precision,\n",
    "            \"min_precision\": min_precision,\n",
    "            \"max_recall\": max_recall,\n",
    "            \"mean_recall\": mean_recall,\n",
    "            \"min_recall\": min_recall\n",
    "            }"
   ]
  },
  {
   "cell_type": "code",
   "execution_count": 9,
   "id": "407cd8eb",
   "metadata": {},
   "outputs": [],
   "source": [
    "def loop(trainloader, testloader, net, optimizer, criterion, epochs=50):\n",
    "    logs = []\n",
    "    for i in range(epochs):\n",
    "        net = train(trainloader, optimizer, net, criterion, epoch=i)\n",
    "        outputs, labels = test(testloader, net)\n",
    "        metrics = get_metrics(outputs, labels)\n",
    "        logs.append(metrics)\n",
    "    return logs"
   ]
  },
  {
   "cell_type": "code",
   "execution_count": 10,
   "id": "5fe018d8",
   "metadata": {},
   "outputs": [],
   "source": [
    "import matplotlib.pyplot as plt\n",
    "import numpy as np\n",
    "\n",
    "# functions to show an image\n",
    "\n",
    "def imshow(img):\n",
    "    img = img / 2 + 0.5     # unnormalize\n",
    "    npimg = img.numpy()\n",
    "    plt.imshow(np.transpose(npimg, (1, 2, 0)))\n",
    "    plt.show()\n",
    "\n",
    "def plot_log(logs, lamda, num_classes=10, classes=classes):\n",
    "    print(classes)\n",
    "    precision = [x['precision'] for x in logs]\n",
    "    recall = [x['recall'] for x in logs]\n",
    "    accuracy = [x['accuracy'] for x in logs]\n",
    "\n",
    "    len_logs = len(accuracy)\n",
    "\n",
    "    max_precision = [x['max_precision'] for x in logs]\n",
    "    min_precision = [x['min_precision'] for x in logs]\n",
    "    mean_precision = [x['mean_precision'] for x in logs]\n",
    "\n",
    "    max_recall = [x['max_recall'] for x in logs]\n",
    "    min_recall = [x['min_recall'] for x in logs]\n",
    "    mean_recall = [x['mean_recall'] for x in logs]\n",
    "\n",
    "    plt.plot(list(range(len(max_precision))), max_precision, label = \"max_precision\")\n",
    "    plt.plot(list(range(len(min_precision))), min_precision, label = \"min_precision\")\n",
    "    plt.plot(list(range(len(mean_precision))), mean_precision, label = \"mean_precision\")\n",
    "\n",
    "    plt.plot(list(range(len(max_recall))), max_recall, label = \"max_recall\")\n",
    "    plt.plot(list(range(len(min_recall))), min_recall, label = \"min_recall\")\n",
    "    plt.plot(list(range(len(mean_recall))), mean_recall, label = \"mean_recall\")\n",
    "    \n",
    "    plt.xlabel('Epochs')\n",
    "    plt.ylabel('Metric')\n",
    "    plt.title(' min mean and max precision and recalls for class imbalance rate  '+ str(lamda))\n",
    "    plt.legend()\n",
    "    plt.show()\n",
    "    plt.close()\n",
    "    \n",
    "    \n",
    "    precision = np.array(precision)\n",
    "    recall = np.array(recall)\n",
    "    for i in range(num_classes):\n",
    "        plt.plot(list(range(len_logs)), precision[:, i].tolist(), label = classes[i])\n",
    "        \n",
    "    plt.xlabel('Epochs')\n",
    "    plt.ylabel('Precision classwise')\n",
    "    plt.title('Class wise precision for lamda = '+ str(lamda))\n",
    "    plt.legend()\n",
    "    plt.show()\n",
    "    plt.close()\n",
    "    \n",
    "    for i in range(num_classes):\n",
    "        plt.plot(list(range(len_logs)), recall[:, i].tolist(), label = classes[i])\n",
    "        \n",
    "    plt.xlabel('Epochs')\n",
    "    plt.ylabel('Recall classwise')\n",
    "    plt.title('Class wise recall for lamda = '+ str(lamda))\n",
    "    plt.legend()\n",
    "    plt.show()\n",
    "    plt.close()\n",
    "    \n",
    "    plt.plot(list(range(len(accuracy))), accuracy, label = \"accuracy\")\n",
    "    plt.xlabel('Epochs')\n",
    "    plt.ylabel('accuracy')\n",
    "    plt.title('Class wise accuracy for lamda = '+ str(lamda))\n",
    "    plt.legend()\n",
    "    plt.show()\n",
    "    plt.close()"
   ]
  },
  {
   "cell_type": "code",
   "execution_count": 11,
   "id": "620017a9",
   "metadata": {},
   "outputs": [],
   "source": [
    "class Resnet18cifar(torch.nn.Module):\n",
    "    def __init__(self, num_classes, pretrained=True):\n",
    "        super().__init__()\n",
    "        self.resnet18 = torch.hub.load('pytorch/vision:v0.8.0', 'resnet18', pretrained=pretrained)\n",
    "        self.base = torch.nn.Sequential(*(list(self.resnet18.children())[:-1]))\n",
    "        self.fc = torch.nn.Linear(512, num_classes)\n",
    "    def forward(self, x):\n",
    "        x = self.base(x)\n",
    "        x = x.reshape((-1, 512))\n",
    "        x = self.fc(x)\n",
    "        return x"
   ]
  },
  {
   "cell_type": "code",
   "execution_count": null,
   "id": "8d5f7a54",
   "metadata": {},
   "outputs": [
    {
     "name": "stderr",
     "output_type": "stream",
     "text": [
      "/home/harsh/anaconda3/envs/constrained_optimisation/lib/python3.7/site-packages/torchvision/transforms/transforms.py:288: UserWarning: Argument interpolation should be of type InterpolationMode instead of int. Please, use InterpolationMode enum.\n",
      "  \"Argument interpolation should be of type InterpolationMode instead of int. \"\n"
     ]
    },
    {
     "name": "stdout",
     "output_type": "stream",
     "text": [
      "Files already downloaded and verified\n",
      "Files already downloaded and verified\n"
     ]
    },
    {
     "data": {
      "image/png": "[encoded data removed]",
      "text/plain": [
       "<Figure size 432x288 with 1 Axes>"
      ]
     },
     "metadata": {
      "needs_background": "light"
     },
     "output_type": "display_data"
    },
    {
     "name": "stderr",
     "output_type": "stream",
     "text": [
      "Clipping input data to the valid range for imshow with RGB data ([0..1] for floats or [0..255] for integers).\n"
     ]
    },
    {
     "data": {
      "image/png": "[encoded data removed]",
      "text/plain": [
       "<Figure size 432x288 with 1 Axes>"
      ]
     },
     "metadata": {
      "needs_background": "light"
     },
     "output_type": "display_data"
    },
    {
     "name": "stderr",
     "output_type": "stream",
     "text": [
      "Using cache found in /home/harsh/.cache/torch/hub/pytorch_vision_v0.8.0\n"
     ]
    },
    {
     "name": "stdout",
     "output_type": "stream",
     "text": [
      "mouse tulip orchid aquarium_fish camel possum beaver woman tiger tractor tiger house caterpillar  seal  lamp  bear\n",
      "length of trainset 50000\n",
      "Finished Training Epoch : 0  With the running loss :  3.887887621231087\n",
      "Finished testing\n"
     ]
    },
    {
     "name": "stderr",
     "output_type": "stream",
     "text": [
      "/home/harsh/anaconda3/envs/constrained_optimisation/lib/python3.7/site-packages/sklearn/metrics/_classification.py:1308: UndefinedMetricWarning: Precision is ill-defined and being set to 0.0 in labels with no predicted samples. Use `zero_division` parameter to control this behavior.\n",
      "  _warn_prf(average, modifier, msg_start, len(result))\n"
     ]
    },
    {
     "name": "stdout",
     "output_type": "stream",
     "text": [
      "Finished Training Epoch : 1  With the running loss :  3.2787983454513543\n",
      "Finished testing\n"
     ]
    },
    {
     "name": "stderr",
     "output_type": "stream",
     "text": [
      "/home/harsh/anaconda3/envs/constrained_optimisation/lib/python3.7/site-packages/sklearn/metrics/_classification.py:1308: UndefinedMetricWarning: Precision is ill-defined and being set to 0.0 in labels with no predicted samples. Use `zero_division` parameter to control this behavior.\n",
      "  _warn_prf(average, modifier, msg_start, len(result))\n"
     ]
    },
    {
     "name": "stdout",
     "output_type": "stream",
     "text": [
      "Finished Training Epoch : 2  With the running loss :  2.8526075849914534\n",
      "Finished testing\n",
      "Finished Training Epoch : 3  With the running loss :  2.4944831076812726\n",
      "Finished testing\n",
      "Finished Training Epoch : 4  With the running loss :  2.193009495868684\n",
      "Finished testing\n",
      "Finished Training Epoch : 5  With the running loss :  1.9451743648147584\n",
      "Finished testing\n",
      "Finished Training Epoch : 6  With the running loss :  1.717373280601502\n",
      "Finished testing\n",
      "Finished Training Epoch : 7  With the running loss :  1.5071465825557706\n",
      "Finished testing\n",
      "Finished Training Epoch : 8  With the running loss :  1.3028128840827982\n",
      "Finished testing\n",
      "Finished Training Epoch : 9  With the running loss :  1.0978834326267242\n",
      "Finished testing\n",
      "Finished Training Epoch : 10  With the running loss :  0.8852371602678293\n",
      "Finished testing\n",
      "Finished Training Epoch : 11  With the running loss :  0.6775838676023488\n",
      "Finished testing\n",
      "Finished Training Epoch : 12  With the running loss :  0.49651487347483636\n",
      "Finished testing\n",
      "Finished Training Epoch : 13  With the running loss :  0.343343568012715\n",
      "Finished testing\n",
      "Finished Training Epoch : 14  With the running loss :  0.23897343946158886\n",
      "Finished testing\n",
      "Finished Training Epoch : 15  With the running loss :  0.15380196060240275\n",
      "Finished testing\n",
      "Finished Training Epoch : 16  With the running loss :  0.10312540472984322\n",
      "Finished testing\n",
      "Finished Training Epoch : 17  With the running loss :  0.06833826802164307\n",
      "Finished testing\n",
      "Finished Training Epoch : 18  With the running loss :  0.04913178348615762\n",
      "Finished testing\n",
      "Finished Training Epoch : 19  With the running loss :  0.03390847863458092\n",
      "Finished testing\n",
      "Finished Training Epoch : 20  With the running loss :  0.024526577409729324\n",
      "Finished testing\n",
      "Finished Training Epoch : 21  With the running loss :  0.019702933551445558\n",
      "Finished testing\n",
      "Finished Training Epoch : 22  With the running loss :  0.014814821860790252\n",
      "Finished testing\n",
      "Finished Training Epoch : 23  With the running loss :  0.0124990554486215\n",
      "Finished testing\n",
      "Finished Training Epoch : 24  With the running loss :  0.011045591927319742\n",
      "Finished testing\n",
      "Finished Training Epoch : 25  With the running loss :  0.009466868693083516\n",
      "Finished testing\n",
      "Finished Training Epoch : 26  With the running loss :  0.009254848501048976\n",
      "Finished testing\n",
      "Finished Training Epoch : 27  With the running loss :  0.008066150751244306\n",
      "Finished testing\n",
      "Finished Training Epoch : 28  With the running loss :  0.008439017382822947\n",
      "Finished testing\n",
      "Finished Training Epoch : 29  With the running loss :  0.00675237099478021\n",
      "Finished testing\n",
      "Finished Training Epoch : 30  With the running loss :  0.006865744130127127\n",
      "Finished testing\n",
      "Finished Training Epoch : 31  With the running loss :  0.006779362286571411\n",
      "Finished testing\n",
      "Finished Training Epoch : 32  With the running loss :  0.006213427275931471\n",
      "Finished testing\n",
      "Finished Training Epoch : 33  With the running loss :  0.0057989167993795\n",
      "Finished testing\n",
      "Finished Training Epoch : 34  With the running loss :  0.00549594350590372\n",
      "Finished testing\n",
      "Finished Training Epoch : 35  With the running loss :  0.005334558094665403\n"
     ]
    }
   ],
   "source": [
    "import torchvision.transforms as transforms\n",
    "import torch.optim as optim\n",
    "import PIL\n",
    "\n",
    "logs_by_lamda_resnet18_cifar100 = []\n",
    "normalize = transforms.Normalize(\n",
    "    mean=[0.485, 0.456, 0.406], std=[0.229, 0.224, 0.225]\n",
    ")\n",
    "transform = transforms.Compose([\n",
    "    transforms.Resize(256, PIL.Image.BICUBIC),\n",
    "    transforms.CenterCrop(224),\n",
    "    transforms.ToTensor(),\n",
    "    normalize,\n",
    "])\n",
    "\n",
    "\n",
    "\n",
    "for lamda in [1.0, 0.995, 0.99, 0.985, 0.98, 0.975]:\n",
    "    batch_size = 16\n",
    "    trainset = torchvision.datasets.CIFAR100(root='./data', train=True,\n",
    "                                        download=True, transform=transform)\n",
    "    testset = torchvision.datasets.CIFAR100(root='./data', train=False,\n",
    "                                           download=True, transform=transform)\n",
    "    trainset = long_tail(trainset, len(trainset.classes), lamda)\n",
    "    show_data_distribution(trainset, keyname=\"train dataset\", classes = trainset.classes)\n",
    "\n",
    "    testloader = torch.utils.data.DataLoader(testset, batch_size=batch_size,\n",
    "                                             shuffle=False, num_workers=8)\n",
    "    trainloader = torch.utils.data.DataLoader(trainset, batch_size=batch_size,\n",
    "                                              shuffle=True, num_workers=8)\n",
    "\n",
    "    # get some random training images\n",
    "    dataiter = iter(trainloader)\n",
    "    images, labels = dataiter.next()\n",
    "\n",
    "    # show images\n",
    "    imshow(torchvision.utils.make_grid(images))\n",
    "    # print labels\n",
    "    print(' '.join('%5s' % trainset.classes[labels[j]] for j in range(batch_size)))\n",
    "    print(\"length of trainset\", len(trainset))\n",
    "\n",
    "    net = Resnet18cifar(100, pretrained=False)\n",
    "    if torch.cuda.is_available():\n",
    "        net = net.cuda()\n",
    "    criterion = torch.nn.CrossEntropyLoss()\n",
    "    optimizer = optim.SGD(net.parameters(), lr=0.001, momentum=0.9)\n",
    "\n",
    "    logs = loop(trainloader, testloader, net, optimizer, criterion, epochs=200)\n",
    "    logs_by_lamda_resnet18_cifar100.append({lamda: logs})"
   ]
  },
  {
   "cell_type": "code",
   "execution_count": null,
   "id": "571df43f",
   "metadata": {},
   "outputs": [],
   "source": [
    "for lamda in list(logs_by_lamda_resnet18_cifar10_transfer_learning.keys()):\n",
    "    log = logs_by_lamda_resnet18_cifar100_transfer_learning[lamda]\n",
    "    trainset = torchvision.datasets.CIFAR10(root='./data', train=True,\n",
    "                                        download=True, transform=transform)\n",
    "    print(\"=\" * 30)\n",
    "    print(\"THIS IS THE RESULT OF ONLY TRAINING A RESNET-18 CLASSIFICATION LAYER\")\n",
    "    print(\"THE MODEL WAS NOT PRETRAINED\")\n",
    "    print(\"=\" * 30)\n",
    "    plot_log(log, lamda, num_classes=len(trainset.classes), classes=classes)"
   ]
  },
  {
   "cell_type": "code",
   "execution_count": null,
   "id": "f4f98ee7",
   "metadata": {},
   "outputs": [],
   "source": []
  }
 ],
 "metadata": {
  "kernelspec": {
   "display_name": "Python 3 (ipykernel)",
   "language": "python",
   "name": "python3"
  },
  "language_info": {
   "codemirror_mode": {
    "name": "ipython",
    "version": 3
   },
   "file_extension": ".py",
   "mimetype": "text/x-python",
   "name": "python",
   "nbconvert_exporter": "python",
   "pygments_lexer": "ipython3",
   "version": "3.7.11"
  }
 },
 "nbformat": 4,
 "nbformat_minor": 5
}
